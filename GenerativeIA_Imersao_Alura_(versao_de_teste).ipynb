{
  "cells": [
    {
      "cell_type": "markdown",
      "metadata": {
        "id": "view-in-github",
        "colab_type": "text"
      },
      "source": [
        "<a href=\"https://colab.research.google.com/github/Dethsyth/Exercises-course-classes-on-data-scientists/blob/main/GenerativeIA_Imersao_Alura_(versao_de_teste).ipynb\" target=\"_parent\"><img src=\"https://colab.research.google.com/assets/colab-badge.svg\" alt=\"Open In Colab\"/></a>"
      ]
    },
    {
      "cell_type": "markdown",
      "source": [
        "# Inicio da programaçao"
      ],
      "metadata": {
        "id": "G7Wl48m3BZWC"
      }
    },
    {
      "cell_type": "code",
      "execution_count": 1,
      "metadata": {
        "id": "rfQ9petZxOWr"
      },
      "outputs": [],
      "source": [
        "#!pip install -q -U google-generativeai"
      ]
    },
    {
      "cell_type": "code",
      "execution_count": 2,
      "metadata": {
        "id": "F5u-lAjuxWfp"
      },
      "outputs": [],
      "source": [
        "import google.generativeai as genai\n",
        "from google.colab import userdata\n",
        "api_key = userdata.get('secret_key')\n",
        "genai.configure(api_key=api_key)"
      ]
    },
    {
      "cell_type": "markdown",
      "metadata": {
        "id": "VhgpPXJMxw7-"
      },
      "source": [
        "# Listar modelos disponiveis"
      ]
    },
    {
      "cell_type": "code",
      "execution_count": 3,
      "metadata": {
        "colab": {
          "base_uri": "https://localhost:8080/",
          "height": 139
        },
        "id": "UekHVYXJxuZs",
        "outputId": "8cedd230-6e3c-4a78-c9a5-80a7f67bc91b"
      },
      "outputs": [
        {
          "output_type": "stream",
          "name": "stdout",
          "text": [
            "models/gemini-1.0-pro\n",
            "models/gemini-1.0-pro-001\n",
            "models/gemini-1.0-pro-latest\n",
            "models/gemini-1.0-pro-vision-latest\n",
            "models/gemini-1.5-pro-latest\n",
            "models/gemini-pro\n",
            "models/gemini-pro-vision\n"
          ]
        }
      ],
      "source": [
        "for m in genai.list_models():\n",
        "  if 'generateContent' in m.supported_generation_methods:\n",
        "    print(m.name)"
      ]
    },
    {
      "cell_type": "code",
      "execution_count": 4,
      "metadata": {
        "id": "BJjjlt8yyHJ_"
      },
      "outputs": [],
      "source": [
        "generation_config = {\n",
        "    'candidate_count': 1,\n",
        "    'temperature': 0.5,\n",
        "}"
      ]
    },
    {
      "cell_type": "code",
      "source": [
        "safety_settings = {\n",
        "    'HARASSMENT': 'BLOCK_NONE',\n",
        "    'HATE': 'BLOCK_NONE',\n",
        "    'SEXUAL':  'BLOCK_NONE',\n",
        "    'DANGEROUS': 'BLOCK_NONE',\n",
        "}"
      ],
      "metadata": {
        "id": "vJcxtf7i2PSu"
      },
      "execution_count": 5,
      "outputs": []
    },
    {
      "cell_type": "markdown",
      "source": [
        "# Inicializando o modelo"
      ],
      "metadata": {
        "id": "4wNdYp9L3dFa"
      }
    },
    {
      "cell_type": "code",
      "source": [
        "model = genai.GenerativeModel(model_name='gemini-1.0-pro',\n",
        "                              generation_config = generation_config,\n",
        "                              safety_settings = safety_settings)"
      ],
      "metadata": {
        "id": "D5exWabe2wGr"
      },
      "execution_count": 6,
      "outputs": []
    },
    {
      "cell_type": "code",
      "source": [
        "response = model.generate_content('quanto é 2+2?')\n",
        "print(response.text)"
      ],
      "metadata": {
        "id": "9PmUVc5M3-6F",
        "colab": {
          "base_uri": "https://localhost:8080/",
          "height": 34
        },
        "outputId": "04f750f8-aa24-472e-c38a-9c1757cb59ca"
      },
      "execution_count": 7,
      "outputs": [
        {
          "output_type": "stream",
          "name": "stdout",
          "text": [
            "4\n"
          ]
        }
      ]
    },
    {
      "cell_type": "code",
      "source": [
        "chat = model.start_chat(history=[])"
      ],
      "metadata": {
        "id": "66Nx-o_y4Ptx"
      },
      "execution_count": 8,
      "outputs": []
    },
    {
      "cell_type": "markdown",
      "source": [
        "# Interaçao com o chat para perguntas e respostas com o modelo"
      ],
      "metadata": {
        "id": "GzohaFkkBSDl"
      }
    },
    {
      "cell_type": "code",
      "source": [
        "prompt = input('Esperando o prompt:')\n",
        "\n",
        "while prompt != 'fim':\n",
        "  response = chat.send_message(prompt)\n",
        "  print('Resposta: ', response.text, '\\n')\n",
        "  prompt = input('Esperando o prompt:')"
      ],
      "metadata": {
        "id": "jTrNmO6c43q4",
        "colab": {
          "base_uri": "https://localhost:8080/",
          "height": 243
        },
        "outputId": "1112312a-8a64-4451-80e6-9746331baaaa"
      },
      "execution_count": 9,
      "outputs": [
        {
          "name": "stdout",
          "output_type": "stream",
          "text": [
            "Esperando o prompt:quantos paises existe no mundo?\n",
            "Resposta:  195 \n",
            "\n",
            "Esperando o prompt:quantas capitais existem no mundo?\n",
            "Resposta:  196 (considerando que a Cidade do Vaticano é um Estado soberano com sua própria capital) \n",
            "\n",
            "Esperando o prompt:quantas pessoas existem no mundo?\n",
            "Resposta:  Aproximadamente 8 bilhões (estimativa de 2023) \n",
            "\n",
            "Esperando o prompt:quantas galaxias existem aproximadamente?\n",
            "Resposta:  Estima-se que existam entre 100 bilhões e 2 trilhões de galáxias no universo observável. \n",
            "\n",
            "Esperando o prompt:fim\n"
          ]
        }
      ]
    },
    {
      "cell_type": "markdown",
      "source": [
        "# Melhoria da visualizaçao do historico"
      ],
      "metadata": {
        "id": "bhrC9zDJBKnE"
      }
    },
    {
      "cell_type": "code",
      "source": [
        "def historico():\n",
        "  \"\"\"Exibe o histórico da conversa atual.\"\"\"\n",
        "  import pathlib\n",
        "  import textwrap\n",
        "  import google.generativeai as genai\n",
        "  from IPython.display import display\n",
        "  from IPython.display import Markdown\n",
        "\n",
        "  def to_markdown(text):\n",
        "    text = text.replace('•', '  *')\n",
        "    return Markdown(textwrap.indent(text, '> ', predicate=lambda _: True))\n",
        "\n",
        "  for message in chat.history:\n",
        "    display(to_markdown(f'**{message.role}**: {message.parts[0].text}'))\n",
        "  print('--------------------------------------------')"
      ],
      "metadata": {
        "id": "P7eUdi-_9QSe"
      },
      "execution_count": 10,
      "outputs": []
    },
    {
      "cell_type": "markdown",
      "source": [
        "# Historico de perguntas e respostas"
      ],
      "metadata": {
        "id": "OW8EottrBDuI"
      }
    },
    {
      "cell_type": "code",
      "source": [
        "historico()"
      ],
      "metadata": {
        "id": "hSOdV6PD95Ga",
        "colab": {
          "base_uri": "https://localhost:8080/",
          "height": 299
        },
        "outputId": "e7701100-e219-4467-d74d-8a5fecef1465"
      },
      "execution_count": 11,
      "outputs": [
        {
          "output_type": "display_data",
          "data": {
            "text/plain": [
              "<IPython.core.display.Markdown object>"
            ],
            "text/markdown": "> **user**: quantos paises existe no mundo?"
          },
          "metadata": {}
        },
        {
          "output_type": "display_data",
          "data": {
            "text/plain": [
              "<IPython.core.display.Markdown object>"
            ],
            "text/markdown": "> **model**: 195"
          },
          "metadata": {}
        },
        {
          "output_type": "display_data",
          "data": {
            "text/plain": [
              "<IPython.core.display.Markdown object>"
            ],
            "text/markdown": "> **user**: quantas capitais existem no mundo?"
          },
          "metadata": {}
        },
        {
          "output_type": "display_data",
          "data": {
            "text/plain": [
              "<IPython.core.display.Markdown object>"
            ],
            "text/markdown": "> **model**: 196 (considerando que a Cidade do Vaticano é um Estado soberano com sua própria capital)"
          },
          "metadata": {}
        },
        {
          "output_type": "display_data",
          "data": {
            "text/plain": [
              "<IPython.core.display.Markdown object>"
            ],
            "text/markdown": "> **user**: quantas pessoas existem no mundo?"
          },
          "metadata": {}
        },
        {
          "output_type": "display_data",
          "data": {
            "text/plain": [
              "<IPython.core.display.Markdown object>"
            ],
            "text/markdown": "> **model**: Aproximadamente 8 bilhões (estimativa de 2023)"
          },
          "metadata": {}
        },
        {
          "output_type": "display_data",
          "data": {
            "text/plain": [
              "<IPython.core.display.Markdown object>"
            ],
            "text/markdown": "> **user**: quantas galaxias existem aproximadamente?"
          },
          "metadata": {}
        },
        {
          "output_type": "display_data",
          "data": {
            "text/plain": [
              "<IPython.core.display.Markdown object>"
            ],
            "text/markdown": "> **model**: Estima-se que existam entre 100 bilhões e 2 trilhões de galáxias no universo observável."
          },
          "metadata": {}
        },
        {
          "output_type": "stream",
          "name": "stdout",
          "text": [
            "--------------------------------------------\n"
          ]
        }
      ]
    }
  ],
  "metadata": {
    "colab": {
      "provenance": [],
      "authorship_tag": "ABX9TyP4o1raHC7znXabfRHJIW/e",
      "include_colab_link": true
    },
    "kernelspec": {
      "display_name": "Python 3",
      "name": "python3"
    },
    "language_info": {
      "name": "python"
    }
  },
  "nbformat": 4,
  "nbformat_minor": 0
}